{
 "cells": [
  {
   "cell_type": "code",
   "execution_count": 78,
   "source": [
    "from rdflib import URIRef, Graph\n",
    "import pandas as pd"
   ],
   "outputs": [],
   "metadata": {}
  },
  {
   "cell_type": "code",
   "execution_count": 79,
   "source": [
    "places = {\n",
    "    \"place\": [\"Q31\", \"Q145\", \"Q183\", \"Q31\"],\n",
    "    \"start\": [\"1979-09-01\", \"1986-03-01\", \"2016-08-10\", \"2018-10-19\"]\n",
    "  }"
   ],
   "outputs": [],
   "metadata": {}
  },
  {
   "cell_type": "code",
   "execution_count": 80,
   "source": [
    "p_df = pd.DataFrame(places)"
   ],
   "outputs": [],
   "metadata": {}
  },
  {
   "cell_type": "code",
   "execution_count": 81,
   "source": [
    "p_df[\"start\"] = pd.to_datetime(p_df[\"start\"])\n",
    "p_df"
   ],
   "outputs": [
    {
     "output_type": "execute_result",
     "data": {
      "text/plain": [
       "  place      start\n",
       "0   Q31 1979-09-01\n",
       "1  Q145 1986-03-01\n",
       "2  Q183 2016-08-10\n",
       "3   Q31 2018-10-19"
      ],
      "text/html": [
       "<div>\n",
       "<style scoped>\n",
       "    .dataframe tbody tr th:only-of-type {\n",
       "        vertical-align: middle;\n",
       "    }\n",
       "\n",
       "    .dataframe tbody tr th {\n",
       "        vertical-align: top;\n",
       "    }\n",
       "\n",
       "    .dataframe thead th {\n",
       "        text-align: right;\n",
       "    }\n",
       "</style>\n",
       "<table border=\"1\" class=\"dataframe\">\n",
       "  <thead>\n",
       "    <tr style=\"text-align: right;\">\n",
       "      <th></th>\n",
       "      <th>place</th>\n",
       "      <th>start</th>\n",
       "    </tr>\n",
       "  </thead>\n",
       "  <tbody>\n",
       "    <tr>\n",
       "      <th>0</th>\n",
       "      <td>Q31</td>\n",
       "      <td>1979-09-01</td>\n",
       "    </tr>\n",
       "    <tr>\n",
       "      <th>1</th>\n",
       "      <td>Q145</td>\n",
       "      <td>1986-03-01</td>\n",
       "    </tr>\n",
       "    <tr>\n",
       "      <th>2</th>\n",
       "      <td>Q183</td>\n",
       "      <td>2016-08-10</td>\n",
       "    </tr>\n",
       "    <tr>\n",
       "      <th>3</th>\n",
       "      <td>Q31</td>\n",
       "      <td>2018-10-19</td>\n",
       "    </tr>\n",
       "  </tbody>\n",
       "</table>\n",
       "</div>"
      ]
     },
     "metadata": {},
     "execution_count": 81
    }
   ],
   "metadata": {}
  },
  {
   "cell_type": "code",
   "execution_count": 82,
   "source": [
    "values = \"\"\n",
    "for p in places[\"place\"]:\n",
    "  values += 'wd:' + p + \" \"\n",
    "print(values)"
   ],
   "outputs": [
    {
     "output_type": "stream",
     "name": "stdout",
     "text": [
      "wd:Q31 wd:Q145 wd:Q183 wd:Q31 \n"
     ]
    }
   ],
   "metadata": {}
  },
  {
   "cell_type": "code",
   "execution_count": 83,
   "source": [
    "q = \"\"\"\n",
    "    PREFIX wd: <http://www.wikidata.org/entity/>\n",
    "    PREFIX wdt: <http://www.wikidata.org/prop/direct/>\n",
    "    PREFIX wikibase: <http://wikiba.se/ontology#>\n",
    "    PREFIX p: <http://www.wikidata.org/prop/>\n",
    "    PREFIX ps: <http://www.wikidata.org/prop/statement/>\n",
    "    PREFIX pq: <http://www.wikidata.org/prop/qualifier/>\n",
    "    PREFIX rdfs: <http://www.w3.org/2000/01/rdf-schema#>\n",
    "    PREFIX bd: <http://www.bigdata.com/rdf#>\n",
    "\n",
    "    SELECT DISTINCT ?country ?countryLabel ?lifeExpectancy ?area\n",
    "    WHERE \n",
    "    { \n",
    "      SERVICE <https://query.wikidata.org/sparql> { \n",
    "        VALUES ?country { \"\"\" + values + \"\"\" } . \n",
    "        ?country wdt:P31 wd:Q3624078 . \n",
    "        ?country rdfs:label ?countryLabel . \n",
    "        OPTIONAL { ?country wdt:P2250 ?lifeExpectancy } \n",
    "        OPTIONAL { ?country wdt:P2046 ?area } \n",
    "      } \n",
    "      FILTER( lang(?countryLabel) = \"en\" ) \n",
    "    } \n",
    "\"\"\""
   ],
   "outputs": [],
   "metadata": {}
  },
  {
   "cell_type": "code",
   "execution_count": 84,
   "source": [
    "print(q)"
   ],
   "outputs": [
    {
     "output_type": "stream",
     "name": "stdout",
     "text": [
      "\n",
      "    PREFIX wd: <http://www.wikidata.org/entity/>\n",
      "    PREFIX wdt: <http://www.wikidata.org/prop/direct/>\n",
      "    PREFIX wikibase: <http://wikiba.se/ontology#>\n",
      "    PREFIX p: <http://www.wikidata.org/prop/>\n",
      "    PREFIX ps: <http://www.wikidata.org/prop/statement/>\n",
      "    PREFIX pq: <http://www.wikidata.org/prop/qualifier/>\n",
      "    PREFIX rdfs: <http://www.w3.org/2000/01/rdf-schema#>\n",
      "    PREFIX bd: <http://www.bigdata.com/rdf#>\n",
      "\n",
      "    SELECT DISTINCT ?country ?countryLabel ?lifeExpectancy ?area\n",
      "    WHERE \n",
      "    { \n",
      "      SERVICE <https://query.wikidata.org/sparql> { \n",
      "        VALUES ?country { wd:Q31 wd:Q145 wd:Q183 wd:Q31 } . \n",
      "        ?country wdt:P31 wd:Q3624078 . \n",
      "        ?country rdfs:label ?countryLabel . \n",
      "        OPTIONAL { ?country wdt:P2250 ?lifeExpectancy } \n",
      "        OPTIONAL { ?country wdt:P2046 ?area } \n",
      "      } \n",
      "      FILTER( lang(?countryLabel) = \"en\" ) \n",
      "    } \n",
      "\n"
     ]
    }
   ],
   "metadata": {}
  },
  {
   "cell_type": "code",
   "execution_count": 85,
   "source": [
    "g = Graph()"
   ],
   "outputs": [],
   "metadata": {}
  },
  {
   "cell_type": "code",
   "execution_count": 86,
   "source": [
    "qres = g.query(q)"
   ],
   "outputs": [],
   "metadata": {}
  },
  {
   "cell_type": "code",
   "execution_count": 87,
   "source": [
    "print('Entries:', len(qres))"
   ],
   "outputs": [
    {
     "output_type": "stream",
     "name": "stdout",
     "text": [
      "Entries: 3\n"
     ]
    }
   ],
   "metadata": {}
  },
  {
   "cell_type": "code",
   "execution_count": 88,
   "source": [
    "df = pd.DataFrame(qres)"
   ],
   "outputs": [],
   "metadata": {}
  },
  {
   "cell_type": "code",
   "execution_count": 89,
   "source": [
    "df.columns = [\"IRI\", \"Country\", \"Life Expectancy\", \"Area\"]"
   ],
   "outputs": [],
   "metadata": {}
  },
  {
   "cell_type": "code",
   "execution_count": 90,
   "source": [
    "df[[\"Entity Rest\", \"Entity\"]] = df[\"IRI\"].str.rsplit(\"/\", n=1, expand=True)"
   ],
   "outputs": [],
   "metadata": {}
  },
  {
   "cell_type": "code",
   "execution_count": 91,
   "source": [
    "df"
   ],
   "outputs": [
    {
     "output_type": "execute_result",
     "data": {
      "text/plain": [
       "                                   IRI         Country Life Expectancy  \\\n",
       "0   http://www.wikidata.org/entity/Q31         Belgium        80.99268   \n",
       "1  http://www.wikidata.org/entity/Q183         Germany            80.8   \n",
       "2  http://www.wikidata.org/entity/Q145  United Kingdom         80.9561   \n",
       "\n",
       "            Area                     Entity Rest Entity  \n",
       "0          30528  http://www.wikidata.org/entity    Q31  \n",
       "1         357400  http://www.wikidata.org/entity   Q183  \n",
       "2  242495.406794  http://www.wikidata.org/entity   Q145  "
      ],
      "text/html": [
       "<div>\n",
       "<style scoped>\n",
       "    .dataframe tbody tr th:only-of-type {\n",
       "        vertical-align: middle;\n",
       "    }\n",
       "\n",
       "    .dataframe tbody tr th {\n",
       "        vertical-align: top;\n",
       "    }\n",
       "\n",
       "    .dataframe thead th {\n",
       "        text-align: right;\n",
       "    }\n",
       "</style>\n",
       "<table border=\"1\" class=\"dataframe\">\n",
       "  <thead>\n",
       "    <tr style=\"text-align: right;\">\n",
       "      <th></th>\n",
       "      <th>IRI</th>\n",
       "      <th>Country</th>\n",
       "      <th>Life Expectancy</th>\n",
       "      <th>Area</th>\n",
       "      <th>Entity Rest</th>\n",
       "      <th>Entity</th>\n",
       "    </tr>\n",
       "  </thead>\n",
       "  <tbody>\n",
       "    <tr>\n",
       "      <th>0</th>\n",
       "      <td>http://www.wikidata.org/entity/Q31</td>\n",
       "      <td>Belgium</td>\n",
       "      <td>80.99268</td>\n",
       "      <td>30528</td>\n",
       "      <td>http://www.wikidata.org/entity</td>\n",
       "      <td>Q31</td>\n",
       "    </tr>\n",
       "    <tr>\n",
       "      <th>1</th>\n",
       "      <td>http://www.wikidata.org/entity/Q183</td>\n",
       "      <td>Germany</td>\n",
       "      <td>80.8</td>\n",
       "      <td>357400</td>\n",
       "      <td>http://www.wikidata.org/entity</td>\n",
       "      <td>Q183</td>\n",
       "    </tr>\n",
       "    <tr>\n",
       "      <th>2</th>\n",
       "      <td>http://www.wikidata.org/entity/Q145</td>\n",
       "      <td>United Kingdom</td>\n",
       "      <td>80.9561</td>\n",
       "      <td>242495.406794</td>\n",
       "      <td>http://www.wikidata.org/entity</td>\n",
       "      <td>Q145</td>\n",
       "    </tr>\n",
       "  </tbody>\n",
       "</table>\n",
       "</div>"
      ]
     },
     "metadata": {},
     "execution_count": 91
    }
   ],
   "metadata": {}
  },
  {
   "cell_type": "code",
   "execution_count": 92,
   "source": [
    "out = pd.merge(p_df,df, left_on=\"place\", right_on=\"Entity\").sort_values(\"start\")"
   ],
   "outputs": [],
   "metadata": {}
  },
  {
   "cell_type": "code",
   "execution_count": 93,
   "source": [
    "out[\"duration\"] = out[\"start\"].shift(-1) - out[\"start\"]"
   ],
   "outputs": [],
   "metadata": {}
  },
  {
   "cell_type": "code",
   "execution_count": 94,
   "source": [
    "out"
   ],
   "outputs": [
    {
     "output_type": "execute_result",
     "data": {
      "text/plain": [
       "  place      start                                  IRI         Country  \\\n",
       "0   Q31 1979-09-01   http://www.wikidata.org/entity/Q31         Belgium   \n",
       "2  Q145 1986-03-01  http://www.wikidata.org/entity/Q145  United Kingdom   \n",
       "3  Q183 2016-08-10  http://www.wikidata.org/entity/Q183         Germany   \n",
       "1   Q31 2018-10-19   http://www.wikidata.org/entity/Q31         Belgium   \n",
       "\n",
       "  Life Expectancy           Area                     Entity Rest Entity  \\\n",
       "0        80.99268          30528  http://www.wikidata.org/entity    Q31   \n",
       "2         80.9561  242495.406794  http://www.wikidata.org/entity   Q145   \n",
       "3            80.8         357400  http://www.wikidata.org/entity   Q183   \n",
       "1        80.99268          30528  http://www.wikidata.org/entity    Q31   \n",
       "\n",
       "    duration  \n",
       "0  2373 days  \n",
       "2 11120 days  \n",
       "3   800 days  \n",
       "1        NaT  "
      ],
      "text/html": [
       "<div>\n",
       "<style scoped>\n",
       "    .dataframe tbody tr th:only-of-type {\n",
       "        vertical-align: middle;\n",
       "    }\n",
       "\n",
       "    .dataframe tbody tr th {\n",
       "        vertical-align: top;\n",
       "    }\n",
       "\n",
       "    .dataframe thead th {\n",
       "        text-align: right;\n",
       "    }\n",
       "</style>\n",
       "<table border=\"1\" class=\"dataframe\">\n",
       "  <thead>\n",
       "    <tr style=\"text-align: right;\">\n",
       "      <th></th>\n",
       "      <th>place</th>\n",
       "      <th>start</th>\n",
       "      <th>IRI</th>\n",
       "      <th>Country</th>\n",
       "      <th>Life Expectancy</th>\n",
       "      <th>Area</th>\n",
       "      <th>Entity Rest</th>\n",
       "      <th>Entity</th>\n",
       "      <th>duration</th>\n",
       "    </tr>\n",
       "  </thead>\n",
       "  <tbody>\n",
       "    <tr>\n",
       "      <th>0</th>\n",
       "      <td>Q31</td>\n",
       "      <td>1979-09-01</td>\n",
       "      <td>http://www.wikidata.org/entity/Q31</td>\n",
       "      <td>Belgium</td>\n",
       "      <td>80.99268</td>\n",
       "      <td>30528</td>\n",
       "      <td>http://www.wikidata.org/entity</td>\n",
       "      <td>Q31</td>\n",
       "      <td>2373 days</td>\n",
       "    </tr>\n",
       "    <tr>\n",
       "      <th>2</th>\n",
       "      <td>Q145</td>\n",
       "      <td>1986-03-01</td>\n",
       "      <td>http://www.wikidata.org/entity/Q145</td>\n",
       "      <td>United Kingdom</td>\n",
       "      <td>80.9561</td>\n",
       "      <td>242495.406794</td>\n",
       "      <td>http://www.wikidata.org/entity</td>\n",
       "      <td>Q145</td>\n",
       "      <td>11120 days</td>\n",
       "    </tr>\n",
       "    <tr>\n",
       "      <th>3</th>\n",
       "      <td>Q183</td>\n",
       "      <td>2016-08-10</td>\n",
       "      <td>http://www.wikidata.org/entity/Q183</td>\n",
       "      <td>Germany</td>\n",
       "      <td>80.8</td>\n",
       "      <td>357400</td>\n",
       "      <td>http://www.wikidata.org/entity</td>\n",
       "      <td>Q183</td>\n",
       "      <td>800 days</td>\n",
       "    </tr>\n",
       "    <tr>\n",
       "      <th>1</th>\n",
       "      <td>Q31</td>\n",
       "      <td>2018-10-19</td>\n",
       "      <td>http://www.wikidata.org/entity/Q31</td>\n",
       "      <td>Belgium</td>\n",
       "      <td>80.99268</td>\n",
       "      <td>30528</td>\n",
       "      <td>http://www.wikidata.org/entity</td>\n",
       "      <td>Q31</td>\n",
       "      <td>NaT</td>\n",
       "    </tr>\n",
       "  </tbody>\n",
       "</table>\n",
       "</div>"
      ]
     },
     "metadata": {},
     "execution_count": 94
    }
   ],
   "metadata": {}
  }
 ],
 "metadata": {
  "orig_nbformat": 4,
  "language_info": {
   "name": "python",
   "version": "3.8.10",
   "mimetype": "text/x-python",
   "codemirror_mode": {
    "name": "ipython",
    "version": 3
   },
   "pygments_lexer": "ipython3",
   "nbconvert_exporter": "python",
   "file_extension": ".py"
  },
  "kernelspec": {
   "name": "python3",
   "display_name": "Python 3.8.10 64-bit"
  },
  "interpreter": {
   "hash": "e45555eb17c2cc9a6dbd7f899b3640cd31ae0cc7d07d26284aa5773d27b9e167"
  }
 },
 "nbformat": 4,
 "nbformat_minor": 2
}